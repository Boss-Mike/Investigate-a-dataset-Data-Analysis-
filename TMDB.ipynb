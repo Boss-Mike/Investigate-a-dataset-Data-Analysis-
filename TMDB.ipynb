{
 "cells": [
  {
   "cell_type": "markdown",
   "id": "1ec376c6",
   "metadata": {},
   "source": [
    "# Project: Investigate a Dataset - [The Movie Database]TMDB\n",
    "\n",
    "## Table of Contents\n",
    "<ul>\n",
    "<li><a href=\"#intro\">Introduction</a></li>\n",
    "<li><a href=\"#question\">Question</a></li>\n",
    "<li><a href=\"#wrangling\">Data Wrangling</a></li>\n",
    "<li><a href=\"#eda\">Exploratory Data Analysis</a></li>\n",
    "<li><a href=\"#conclusions\">Conclusions</a></li>\n",
    "<li><a href=\"#limitations\">Limitations</a></li>\n",
    "<li><a href=\"#ref\">References</a></li>\n",
    "\n",
    "</ul>"
   ]
  },
  {
   "cell_type": "markdown",
   "id": "2d828765",
   "metadata": {},
   "source": [
    "<a id='intro'></a>\n",
    "## Introduction\n",
    "\n",
    ">\n",
    "The Movie Database (TMDB) contains several collections of movies and television shows includind the directors, cast, genre, release date, etc. Movies lovers can now choose which movie they like to watch. This report analyses a sample of the dataset from TMDB between 1960 and 2015.\n",
    "\n",
    ">In my report, the dependent variables analyzed are genres and the vote average (Average rating).\n",
    "\n",
    ">Voting Average: This is the standard rating system adopted by IMDB. The rating is from 1 (lowest) to 10 (highest). It usually serves as a measure of how much a movie is preferred by the populace and this metric is adopted by many users to select their movie of preference.\n",
    "\n",
    ">Genre: Most users have a particular taste in Genre. Some may prefer a genre to another and some genres are also more widely accepted than others.\n",
    "\n",
    ">Cast: The choice of users is greatly influenced by the casts in a movie. Fans of a particular movie cast prefer movies by the cast to other movies. Users may also rate the quality of a movie by the casts it features.\n",
    "\n",
    ">Other important variables considered in this dataset includes;\n",
    "\n",
    ">Revenue: The amount of revenue generated might be a relection of the quality of a movie/tv show. Good shows tend to generate higher revenue. Similarly, many individuals prefer the highest grossing movies because of the assumed quality it is expected to have.\n",
    "\n",
    ">Budget: The Budget is the total amount on a movie/tv show from inception to production. Sometimes, high-budgeted movies may be perceived as quality because more money is spent on the movie to make it top-notch.\n",
    "Based on the dependent and independent variables mentioned above, the following are the research questions analyzed in this report.\n",
    "\n",
    ">Who are the most featured casts and what are the characteristics attributed to them?\n",
    "Who are the casts of the highest grossing movies and what is the general overview of their footprint in the movie industry?\n",
    "Does genre popularity influence rating?."
   ]
  },
  {
   "cell_type": "markdown",
   "id": "5fe8c74b",
   "metadata": {},
   "source": [
    "<a id='question'></a>\n",
    "\n",
    "## Questions answered in this code are\n",
    "### 1)Which are the movies with the third-lowest and third-highest budget?\n",
    "### 2) What is the average number of words in movie titles between the year 2010-2015?\n",
    "### 3) What is the most common Genre for Dwayne Johnson & Chris Hemsworth movies?\n",
    "### 4) Which are the movies with most and least earned revenue?\n",
    "### 5) What is the average runtime of movies in the year 2006?\n"
   ]
  },
  {
   "cell_type": "markdown",
   "id": "96c88abf",
   "metadata": {},
   "source": [
    "#### Importing the necessary libraries"
   ]
  },
  {
   "cell_type": "code",
   "execution_count": 104,
   "id": "275c3809",
   "metadata": {},
   "outputs": [],
   "source": [
    "import pandas as pd\n",
    "import numpy as np\n",
    "import matplotlib.pyplot as plt\n",
    "import seaborn as sns\n",
    "import warnings\n",
    "warnings.filterwarnings(\"ignore\")\n",
    "\n",
    "sns.set_style('darkgrid')\n",
    "%matplotlib inline"
   ]
  },
  {
   "cell_type": "markdown",
   "id": "1c97a01e",
   "metadata": {},
   "source": [
    "<a id='wrangling'></a>\n",
    "\n",
    "## Data Wrangling\n",
    "\n",
    "#### In this part of my analysis, we'd consider the following:\n",
    "> Data importing / Accessing the data\n",
    "\n",
    "> Data cleaning\n",
    "\n",
    "> Data structuring, string processing\n",
    "\n",
    "> Handling dates and times\n",
    "\n",
    "> Handling missing data, and text mining."
   ]
  },
  {
   "cell_type": "code",
   "execution_count": 105,
   "id": "c5bf748e",
   "metadata": {},
   "outputs": [
    {
     "data": {
      "text/html": [
       "<div>\n",
       "<style scoped>\n",
       "    .dataframe tbody tr th:only-of-type {\n",
       "        vertical-align: middle;\n",
       "    }\n",
       "\n",
       "    .dataframe tbody tr th {\n",
       "        vertical-align: top;\n",
       "    }\n",
       "\n",
       "    .dataframe thead th {\n",
       "        text-align: right;\n",
       "    }\n",
       "</style>\n",
       "<table border=\"1\" class=\"dataframe\">\n",
       "  <thead>\n",
       "    <tr style=\"text-align: right;\">\n",
       "      <th></th>\n",
       "      <th>id</th>\n",
       "      <th>imdb_id</th>\n",
       "      <th>popularity</th>\n",
       "      <th>budget</th>\n",
       "      <th>revenue</th>\n",
       "      <th>original_title</th>\n",
       "      <th>cast</th>\n",
       "      <th>homepage</th>\n",
       "      <th>director</th>\n",
       "      <th>tagline</th>\n",
       "      <th>...</th>\n",
       "      <th>overview</th>\n",
       "      <th>runtime</th>\n",
       "      <th>genres</th>\n",
       "      <th>production_companies</th>\n",
       "      <th>release_date</th>\n",
       "      <th>vote_count</th>\n",
       "      <th>vote_average</th>\n",
       "      <th>release_year</th>\n",
       "      <th>budget_adj</th>\n",
       "      <th>revenue_adj</th>\n",
       "    </tr>\n",
       "  </thead>\n",
       "  <tbody>\n",
       "    <tr>\n",
       "      <th>0</th>\n",
       "      <td>135397</td>\n",
       "      <td>tt0369610</td>\n",
       "      <td>32.985763</td>\n",
       "      <td>150000000</td>\n",
       "      <td>1513528810</td>\n",
       "      <td>Jurassic World</td>\n",
       "      <td>Chris Pratt|Bryce Dallas Howard|Irrfan Khan|Vi...</td>\n",
       "      <td>http://www.jurassicworld.com/</td>\n",
       "      <td>Colin Trevorrow</td>\n",
       "      <td>The park is open.</td>\n",
       "      <td>...</td>\n",
       "      <td>Twenty-two years after the events of Jurassic ...</td>\n",
       "      <td>124</td>\n",
       "      <td>Action|Adventure|Science Fiction|Thriller</td>\n",
       "      <td>Universal Studios|Amblin Entertainment|Legenda...</td>\n",
       "      <td>6/9/15</td>\n",
       "      <td>5562</td>\n",
       "      <td>6.5</td>\n",
       "      <td>2015</td>\n",
       "      <td>1.379999e+08</td>\n",
       "      <td>1.392446e+09</td>\n",
       "    </tr>\n",
       "    <tr>\n",
       "      <th>1</th>\n",
       "      <td>76341</td>\n",
       "      <td>tt1392190</td>\n",
       "      <td>28.419936</td>\n",
       "      <td>150000000</td>\n",
       "      <td>378436354</td>\n",
       "      <td>Mad Max: Fury Road</td>\n",
       "      <td>Tom Hardy|Charlize Theron|Hugh Keays-Byrne|Nic...</td>\n",
       "      <td>http://www.madmaxmovie.com/</td>\n",
       "      <td>George Miller</td>\n",
       "      <td>What a Lovely Day.</td>\n",
       "      <td>...</td>\n",
       "      <td>An apocalyptic story set in the furthest reach...</td>\n",
       "      <td>120</td>\n",
       "      <td>Action|Adventure|Science Fiction|Thriller</td>\n",
       "      <td>Village Roadshow Pictures|Kennedy Miller Produ...</td>\n",
       "      <td>5/13/15</td>\n",
       "      <td>6185</td>\n",
       "      <td>7.1</td>\n",
       "      <td>2015</td>\n",
       "      <td>1.379999e+08</td>\n",
       "      <td>3.481613e+08</td>\n",
       "    </tr>\n",
       "    <tr>\n",
       "      <th>2</th>\n",
       "      <td>262500</td>\n",
       "      <td>tt2908446</td>\n",
       "      <td>13.112507</td>\n",
       "      <td>110000000</td>\n",
       "      <td>295238201</td>\n",
       "      <td>Insurgent</td>\n",
       "      <td>Shailene Woodley|Theo James|Kate Winslet|Ansel...</td>\n",
       "      <td>http://www.thedivergentseries.movie/#insurgent</td>\n",
       "      <td>Robert Schwentke</td>\n",
       "      <td>One Choice Can Destroy You</td>\n",
       "      <td>...</td>\n",
       "      <td>Beatrice Prior must confront her inner demons ...</td>\n",
       "      <td>119</td>\n",
       "      <td>Adventure|Science Fiction|Thriller</td>\n",
       "      <td>Summit Entertainment|Mandeville Films|Red Wago...</td>\n",
       "      <td>3/18/15</td>\n",
       "      <td>2480</td>\n",
       "      <td>6.3</td>\n",
       "      <td>2015</td>\n",
       "      <td>1.012000e+08</td>\n",
       "      <td>2.716190e+08</td>\n",
       "    </tr>\n",
       "    <tr>\n",
       "      <th>3</th>\n",
       "      <td>140607</td>\n",
       "      <td>tt2488496</td>\n",
       "      <td>11.173104</td>\n",
       "      <td>200000000</td>\n",
       "      <td>2068178225</td>\n",
       "      <td>Star Wars: The Force Awakens</td>\n",
       "      <td>Harrison Ford|Mark Hamill|Carrie Fisher|Adam D...</td>\n",
       "      <td>http://www.starwars.com/films/star-wars-episod...</td>\n",
       "      <td>J.J. Abrams</td>\n",
       "      <td>Every generation has a story.</td>\n",
       "      <td>...</td>\n",
       "      <td>Thirty years after defeating the Galactic Empi...</td>\n",
       "      <td>136</td>\n",
       "      <td>Action|Adventure|Science Fiction|Fantasy</td>\n",
       "      <td>Lucasfilm|Truenorth Productions|Bad Robot</td>\n",
       "      <td>12/15/15</td>\n",
       "      <td>5292</td>\n",
       "      <td>7.5</td>\n",
       "      <td>2015</td>\n",
       "      <td>1.839999e+08</td>\n",
       "      <td>1.902723e+09</td>\n",
       "    </tr>\n",
       "    <tr>\n",
       "      <th>4</th>\n",
       "      <td>168259</td>\n",
       "      <td>tt2820852</td>\n",
       "      <td>9.335014</td>\n",
       "      <td>190000000</td>\n",
       "      <td>1506249360</td>\n",
       "      <td>Furious 7</td>\n",
       "      <td>Vin Diesel|Paul Walker|Jason Statham|Michelle ...</td>\n",
       "      <td>http://www.furious7.com/</td>\n",
       "      <td>James Wan</td>\n",
       "      <td>Vengeance Hits Home</td>\n",
       "      <td>...</td>\n",
       "      <td>Deckard Shaw seeks revenge against Dominic Tor...</td>\n",
       "      <td>137</td>\n",
       "      <td>Action|Crime|Thriller</td>\n",
       "      <td>Universal Pictures|Original Film|Media Rights ...</td>\n",
       "      <td>4/1/15</td>\n",
       "      <td>2947</td>\n",
       "      <td>7.3</td>\n",
       "      <td>2015</td>\n",
       "      <td>1.747999e+08</td>\n",
       "      <td>1.385749e+09</td>\n",
       "    </tr>\n",
       "  </tbody>\n",
       "</table>\n",
       "<p>5 rows × 21 columns</p>\n",
       "</div>"
      ],
      "text/plain": [
       "       id    imdb_id  popularity     budget     revenue  \\\n",
       "0  135397  tt0369610   32.985763  150000000  1513528810   \n",
       "1   76341  tt1392190   28.419936  150000000   378436354   \n",
       "2  262500  tt2908446   13.112507  110000000   295238201   \n",
       "3  140607  tt2488496   11.173104  200000000  2068178225   \n",
       "4  168259  tt2820852    9.335014  190000000  1506249360   \n",
       "\n",
       "                 original_title  \\\n",
       "0                Jurassic World   \n",
       "1            Mad Max: Fury Road   \n",
       "2                     Insurgent   \n",
       "3  Star Wars: The Force Awakens   \n",
       "4                     Furious 7   \n",
       "\n",
       "                                                cast  \\\n",
       "0  Chris Pratt|Bryce Dallas Howard|Irrfan Khan|Vi...   \n",
       "1  Tom Hardy|Charlize Theron|Hugh Keays-Byrne|Nic...   \n",
       "2  Shailene Woodley|Theo James|Kate Winslet|Ansel...   \n",
       "3  Harrison Ford|Mark Hamill|Carrie Fisher|Adam D...   \n",
       "4  Vin Diesel|Paul Walker|Jason Statham|Michelle ...   \n",
       "\n",
       "                                            homepage          director  \\\n",
       "0                      http://www.jurassicworld.com/   Colin Trevorrow   \n",
       "1                        http://www.madmaxmovie.com/     George Miller   \n",
       "2     http://www.thedivergentseries.movie/#insurgent  Robert Schwentke   \n",
       "3  http://www.starwars.com/films/star-wars-episod...       J.J. Abrams   \n",
       "4                           http://www.furious7.com/         James Wan   \n",
       "\n",
       "                         tagline  ...  \\\n",
       "0              The park is open.  ...   \n",
       "1             What a Lovely Day.  ...   \n",
       "2     One Choice Can Destroy You  ...   \n",
       "3  Every generation has a story.  ...   \n",
       "4            Vengeance Hits Home  ...   \n",
       "\n",
       "                                            overview runtime  \\\n",
       "0  Twenty-two years after the events of Jurassic ...     124   \n",
       "1  An apocalyptic story set in the furthest reach...     120   \n",
       "2  Beatrice Prior must confront her inner demons ...     119   \n",
       "3  Thirty years after defeating the Galactic Empi...     136   \n",
       "4  Deckard Shaw seeks revenge against Dominic Tor...     137   \n",
       "\n",
       "                                      genres  \\\n",
       "0  Action|Adventure|Science Fiction|Thriller   \n",
       "1  Action|Adventure|Science Fiction|Thriller   \n",
       "2         Adventure|Science Fiction|Thriller   \n",
       "3   Action|Adventure|Science Fiction|Fantasy   \n",
       "4                      Action|Crime|Thriller   \n",
       "\n",
       "                                production_companies release_date vote_count  \\\n",
       "0  Universal Studios|Amblin Entertainment|Legenda...       6/9/15       5562   \n",
       "1  Village Roadshow Pictures|Kennedy Miller Produ...      5/13/15       6185   \n",
       "2  Summit Entertainment|Mandeville Films|Red Wago...      3/18/15       2480   \n",
       "3          Lucasfilm|Truenorth Productions|Bad Robot     12/15/15       5292   \n",
       "4  Universal Pictures|Original Film|Media Rights ...       4/1/15       2947   \n",
       "\n",
       "   vote_average  release_year    budget_adj   revenue_adj  \n",
       "0           6.5          2015  1.379999e+08  1.392446e+09  \n",
       "1           7.1          2015  1.379999e+08  3.481613e+08  \n",
       "2           6.3          2015  1.012000e+08  2.716190e+08  \n",
       "3           7.5          2015  1.839999e+08  1.902723e+09  \n",
       "4           7.3          2015  1.747999e+08  1.385749e+09  \n",
       "\n",
       "[5 rows x 21 columns]"
      ]
     },
     "execution_count": 105,
     "metadata": {},
     "output_type": "execute_result"
    }
   ],
   "source": [
    "#Importing the data into a dataframe\n",
    "\n",
    "df = pd.read_csv('tmdb_movies.csv')\n",
    "df = pd.DataFrame(df)\n",
    "\n",
    "df.head(5)"
   ]
  },
  {
   "cell_type": "markdown",
   "id": "05716f2b",
   "metadata": {},
   "source": [
    "### Descriptive statistics summary"
   ]
  },
  {
   "cell_type": "code",
   "execution_count": 106,
   "id": "a4095ffc",
   "metadata": {},
   "outputs": [
    {
     "data": {
      "text/html": [
       "<div>\n",
       "<style scoped>\n",
       "    .dataframe tbody tr th:only-of-type {\n",
       "        vertical-align: middle;\n",
       "    }\n",
       "\n",
       "    .dataframe tbody tr th {\n",
       "        vertical-align: top;\n",
       "    }\n",
       "\n",
       "    .dataframe thead th {\n",
       "        text-align: right;\n",
       "    }\n",
       "</style>\n",
       "<table border=\"1\" class=\"dataframe\">\n",
       "  <thead>\n",
       "    <tr style=\"text-align: right;\">\n",
       "      <th></th>\n",
       "      <th>id</th>\n",
       "      <th>popularity</th>\n",
       "      <th>budget</th>\n",
       "      <th>revenue</th>\n",
       "      <th>runtime</th>\n",
       "      <th>vote_count</th>\n",
       "      <th>vote_average</th>\n",
       "      <th>release_year</th>\n",
       "      <th>budget_adj</th>\n",
       "      <th>revenue_adj</th>\n",
       "    </tr>\n",
       "  </thead>\n",
       "  <tbody>\n",
       "    <tr>\n",
       "      <th>count</th>\n",
       "      <td>10866.000000</td>\n",
       "      <td>10866.000000</td>\n",
       "      <td>1.086600e+04</td>\n",
       "      <td>1.086600e+04</td>\n",
       "      <td>10866.000000</td>\n",
       "      <td>10866.000000</td>\n",
       "      <td>10866.000000</td>\n",
       "      <td>10866.000000</td>\n",
       "      <td>1.086600e+04</td>\n",
       "      <td>1.086600e+04</td>\n",
       "    </tr>\n",
       "    <tr>\n",
       "      <th>mean</th>\n",
       "      <td>66064.177434</td>\n",
       "      <td>0.646441</td>\n",
       "      <td>1.462570e+07</td>\n",
       "      <td>3.982332e+07</td>\n",
       "      <td>102.070863</td>\n",
       "      <td>217.389748</td>\n",
       "      <td>5.974922</td>\n",
       "      <td>2001.322658</td>\n",
       "      <td>1.755104e+07</td>\n",
       "      <td>5.136436e+07</td>\n",
       "    </tr>\n",
       "    <tr>\n",
       "      <th>std</th>\n",
       "      <td>92130.136561</td>\n",
       "      <td>1.000185</td>\n",
       "      <td>3.091321e+07</td>\n",
       "      <td>1.170035e+08</td>\n",
       "      <td>31.381405</td>\n",
       "      <td>575.619058</td>\n",
       "      <td>0.935142</td>\n",
       "      <td>12.812941</td>\n",
       "      <td>3.430616e+07</td>\n",
       "      <td>1.446325e+08</td>\n",
       "    </tr>\n",
       "    <tr>\n",
       "      <th>min</th>\n",
       "      <td>5.000000</td>\n",
       "      <td>0.000065</td>\n",
       "      <td>0.000000e+00</td>\n",
       "      <td>0.000000e+00</td>\n",
       "      <td>0.000000</td>\n",
       "      <td>10.000000</td>\n",
       "      <td>1.500000</td>\n",
       "      <td>1960.000000</td>\n",
       "      <td>0.000000e+00</td>\n",
       "      <td>0.000000e+00</td>\n",
       "    </tr>\n",
       "    <tr>\n",
       "      <th>25%</th>\n",
       "      <td>10596.250000</td>\n",
       "      <td>0.207583</td>\n",
       "      <td>0.000000e+00</td>\n",
       "      <td>0.000000e+00</td>\n",
       "      <td>90.000000</td>\n",
       "      <td>17.000000</td>\n",
       "      <td>5.400000</td>\n",
       "      <td>1995.000000</td>\n",
       "      <td>0.000000e+00</td>\n",
       "      <td>0.000000e+00</td>\n",
       "    </tr>\n",
       "    <tr>\n",
       "      <th>50%</th>\n",
       "      <td>20669.000000</td>\n",
       "      <td>0.383856</td>\n",
       "      <td>0.000000e+00</td>\n",
       "      <td>0.000000e+00</td>\n",
       "      <td>99.000000</td>\n",
       "      <td>38.000000</td>\n",
       "      <td>6.000000</td>\n",
       "      <td>2006.000000</td>\n",
       "      <td>0.000000e+00</td>\n",
       "      <td>0.000000e+00</td>\n",
       "    </tr>\n",
       "    <tr>\n",
       "      <th>75%</th>\n",
       "      <td>75610.000000</td>\n",
       "      <td>0.713817</td>\n",
       "      <td>1.500000e+07</td>\n",
       "      <td>2.400000e+07</td>\n",
       "      <td>111.000000</td>\n",
       "      <td>145.750000</td>\n",
       "      <td>6.600000</td>\n",
       "      <td>2011.000000</td>\n",
       "      <td>2.085325e+07</td>\n",
       "      <td>3.369710e+07</td>\n",
       "    </tr>\n",
       "    <tr>\n",
       "      <th>max</th>\n",
       "      <td>417859.000000</td>\n",
       "      <td>32.985763</td>\n",
       "      <td>4.250000e+08</td>\n",
       "      <td>2.781506e+09</td>\n",
       "      <td>900.000000</td>\n",
       "      <td>9767.000000</td>\n",
       "      <td>9.200000</td>\n",
       "      <td>2015.000000</td>\n",
       "      <td>4.250000e+08</td>\n",
       "      <td>2.827124e+09</td>\n",
       "    </tr>\n",
       "  </tbody>\n",
       "</table>\n",
       "</div>"
      ],
      "text/plain": [
       "                  id    popularity        budget       revenue       runtime  \\\n",
       "count   10866.000000  10866.000000  1.086600e+04  1.086600e+04  10866.000000   \n",
       "mean    66064.177434      0.646441  1.462570e+07  3.982332e+07    102.070863   \n",
       "std     92130.136561      1.000185  3.091321e+07  1.170035e+08     31.381405   \n",
       "min         5.000000      0.000065  0.000000e+00  0.000000e+00      0.000000   \n",
       "25%     10596.250000      0.207583  0.000000e+00  0.000000e+00     90.000000   \n",
       "50%     20669.000000      0.383856  0.000000e+00  0.000000e+00     99.000000   \n",
       "75%     75610.000000      0.713817  1.500000e+07  2.400000e+07    111.000000   \n",
       "max    417859.000000     32.985763  4.250000e+08  2.781506e+09    900.000000   \n",
       "\n",
       "         vote_count  vote_average  release_year    budget_adj   revenue_adj  \n",
       "count  10866.000000  10866.000000  10866.000000  1.086600e+04  1.086600e+04  \n",
       "mean     217.389748      5.974922   2001.322658  1.755104e+07  5.136436e+07  \n",
       "std      575.619058      0.935142     12.812941  3.430616e+07  1.446325e+08  \n",
       "min       10.000000      1.500000   1960.000000  0.000000e+00  0.000000e+00  \n",
       "25%       17.000000      5.400000   1995.000000  0.000000e+00  0.000000e+00  \n",
       "50%       38.000000      6.000000   2006.000000  0.000000e+00  0.000000e+00  \n",
       "75%      145.750000      6.600000   2011.000000  2.085325e+07  3.369710e+07  \n",
       "max     9767.000000      9.200000   2015.000000  4.250000e+08  2.827124e+09  "
      ]
     },
     "execution_count": 106,
     "metadata": {},
     "output_type": "execute_result"
    }
   ],
   "source": [
    "df.describe()"
   ]
  },
  {
   "cell_type": "markdown",
   "id": "66658a45",
   "metadata": {},
   "source": [
    "### Asseessing the data"
   ]
  },
  {
   "cell_type": "code",
   "execution_count": 107,
   "id": "212a6b98",
   "metadata": {
    "scrolled": true
   },
   "outputs": [
    {
     "name": "stdout",
     "output_type": "stream",
     "text": [
      "<class 'pandas.core.frame.DataFrame'>\n",
      "RangeIndex: 10866 entries, 0 to 10865\n",
      "Data columns (total 21 columns):\n",
      " #   Column                Non-Null Count  Dtype  \n",
      "---  ------                --------------  -----  \n",
      " 0   id                    10866 non-null  int64  \n",
      " 1   imdb_id               10856 non-null  object \n",
      " 2   popularity            10866 non-null  float64\n",
      " 3   budget                10866 non-null  int64  \n",
      " 4   revenue               10866 non-null  int64  \n",
      " 5   original_title        10866 non-null  object \n",
      " 6   cast                  10790 non-null  object \n",
      " 7   homepage              2936 non-null   object \n",
      " 8   director              10822 non-null  object \n",
      " 9   tagline               8042 non-null   object \n",
      " 10  keywords              9373 non-null   object \n",
      " 11  overview              10862 non-null  object \n",
      " 12  runtime               10866 non-null  int64  \n",
      " 13  genres                10843 non-null  object \n",
      " 14  production_companies  9836 non-null   object \n",
      " 15  release_date          10866 non-null  object \n",
      " 16  vote_count            10866 non-null  int64  \n",
      " 17  vote_average          10866 non-null  float64\n",
      " 18  release_year          10866 non-null  int64  \n",
      " 19  budget_adj            10866 non-null  float64\n",
      " 20  revenue_adj           10866 non-null  float64\n",
      "dtypes: float64(4), int64(6), object(11)\n",
      "memory usage: 1.7+ MB\n"
     ]
    }
   ],
   "source": [
    "df.info()"
   ]
  },
  {
   "cell_type": "markdown",
   "id": "7ea569a8",
   "metadata": {},
   "source": [
    "### Columns Data types\n"
   ]
  },
  {
   "cell_type": "code",
   "execution_count": 108,
   "id": "3bb8dce1",
   "metadata": {},
   "outputs": [
    {
     "data": {
      "text/plain": [
       "id                        int64\n",
       "imdb_id                  object\n",
       "popularity              float64\n",
       "budget                    int64\n",
       "revenue                   int64\n",
       "original_title           object\n",
       "cast                     object\n",
       "homepage                 object\n",
       "director                 object\n",
       "tagline                  object\n",
       "keywords                 object\n",
       "overview                 object\n",
       "runtime                   int64\n",
       "genres                   object\n",
       "production_companies     object\n",
       "release_date             object\n",
       "vote_count                int64\n",
       "vote_average            float64\n",
       "release_year              int64\n",
       "budget_adj              float64\n",
       "revenue_adj             float64\n",
       "dtype: object"
      ]
     },
     "execution_count": 108,
     "metadata": {},
     "output_type": "execute_result"
    }
   ],
   "source": [
    "df.dtypes"
   ]
  },
  {
   "cell_type": "markdown",
   "id": "1db97a70",
   "metadata": {},
   "source": [
    "## Check the missing data in each column"
   ]
  },
  {
   "cell_type": "code",
   "execution_count": 109,
   "id": "bfe93973",
   "metadata": {
    "scrolled": true
   },
   "outputs": [
    {
     "data": {
      "text/plain": [
       "id                         0\n",
       "imdb_id                   10\n",
       "popularity                 0\n",
       "budget                     0\n",
       "revenue                    0\n",
       "original_title             0\n",
       "cast                      76\n",
       "homepage                7930\n",
       "director                  44\n",
       "tagline                 2824\n",
       "keywords                1493\n",
       "overview                   4\n",
       "runtime                    0\n",
       "genres                    23\n",
       "production_companies    1030\n",
       "release_date               0\n",
       "vote_count                 0\n",
       "vote_average               0\n",
       "release_year               0\n",
       "budget_adj                 0\n",
       "revenue_adj                0\n",
       "dtype: int64"
      ]
     },
     "execution_count": 109,
     "metadata": {},
     "output_type": "execute_result"
    }
   ],
   "source": [
    "df.isnull().sum()"
   ]
  },
  {
   "cell_type": "markdown",
   "id": "00dfe506",
   "metadata": {},
   "source": [
    "## Data Cleaning"
   ]
  },
  {
   "cell_type": "code",
   "execution_count": 110,
   "id": "06422d84",
   "metadata": {},
   "outputs": [
    {
     "name": "stdout",
     "output_type": "stream",
     "text": [
      "<class 'pandas.core.frame.DataFrame'>\n",
      "RangeIndex: 10866 entries, 0 to 10865\n",
      "Data columns (total 12 columns):\n",
      " #   Column          Non-Null Count  Dtype  \n",
      "---  ------          --------------  -----  \n",
      " 0   New_ID          10866 non-null  int64  \n",
      " 1   popularity      10866 non-null  float64\n",
      " 2   budget          10866 non-null  int64  \n",
      " 3   revenue         10866 non-null  int64  \n",
      " 4   original_title  10866 non-null  object \n",
      " 5   cast            10790 non-null  object \n",
      " 6   runtime         10866 non-null  int64  \n",
      " 7   genres          10843 non-null  object \n",
      " 8   release_date    10866 non-null  object \n",
      " 9   vote_average    10866 non-null  float64\n",
      " 10  budget_adj      10866 non-null  float64\n",
      " 11  revenue_adj     10866 non-null  float64\n",
      "dtypes: float64(4), int64(4), object(4)\n",
      "memory usage: 1018.8+ KB\n",
      "None\n"
     ]
    }
   ],
   "source": [
    "#Completing the columns with empty cells, to clean up the data\n",
    "\n",
    "df.insert(0, 'New_ID', range(0, len(df)))\n",
    "columns = [\"id\", \"homepage\", \"keywords\", \"overview\", \"production_companies\", \"tagline\", \"imdb_id\", \"director\", \"vote_count\", \"release_year\"]\n",
    "df.drop(labels=columns, axis = 1, inplace = True)\n",
    "print(df.info())"
   ]
  },
  {
   "cell_type": "code",
   "execution_count": 111,
   "id": "fa2c2e36",
   "metadata": {},
   "outputs": [
    {
     "name": "stdout",
     "output_type": "stream",
     "text": [
      "Index(['New_ID', 'popularity', 'budget', 'revenue', 'original_title', 'cast',\n",
      "       'runtime', 'genres', 'release_date', 'vote_average', 'budget_adj',\n",
      "       'revenue_adj'],\n",
      "      dtype='object')\n"
     ]
    }
   ],
   "source": [
    "#Display the columns\n",
    "print(df.columns)"
   ]
  },
  {
   "cell_type": "code",
   "execution_count": 113,
   "id": "760fbb11",
   "metadata": {},
   "outputs": [
    {
     "data": {
      "image/png": "[encoded data removed]",
      "text/plain": [
       "<Figure size 1080x720 with 9 Axes>"
      ]
     },
     "metadata": {
      "needs_background": "light"
     },
     "output_type": "display_data"
    }
   ],
   "source": [
    "#A histogram showing the data in each column\n",
    "df.hist(figsize= (15,10));"
   ]
  },
  {
   "cell_type": "markdown",
   "id": "383d471d",
   "metadata": {},
   "source": [
    "### Checking date and time for proper structuring"
   ]
  },
  {
   "cell_type": "code",
   "execution_count": 114,
   "id": "2747bf08",
   "metadata": {
    "scrolled": true
   },
   "outputs": [
    {
     "name": "stdout",
     "output_type": "stream",
     "text": [
      "Dates before processing them\n",
      " 0      6/9/15\n",
      "1     5/13/15\n",
      "2     3/18/15\n",
      "3    12/15/15\n",
      "4      4/1/15\n",
      "Name: release_date, dtype: object\n",
      "Dates after processing them\n",
      " 0   2015-06-09\n",
      "1   2015-05-13\n",
      "2   2015-03-18\n",
      "3   2015-12-15\n",
      "4   2015-04-01\n",
      "Name: release_date, dtype: datetime64[ns]\n"
     ]
    }
   ],
   "source": [
    "print(\"Dates before processing them\\n\", df['release_date'].head(5))\n",
    "df['release_date'] = pd.to_datetime(df['release_date'])\n",
    "print(\"Dates after processing them\\n\", df['release_date'].head(5))"
   ]
  },
  {
   "cell_type": "markdown",
   "id": "d9783ef7",
   "metadata": {},
   "source": [
    "## Solving the questions\n",
    "### 1). Which movie has the third lowest budget and the third highest budget.\n",
    "\n",
    "\n",
    "> In this section, i sorted every movie, based on the budget, then i filtered them down to the third highest and lowest respectively.\n",
    "\n",
    "> The reason for this is to know which movies spent more and less between 1960 and 2015."
   ]
  },
  {
   "cell_type": "code",
   "execution_count": 115,
   "id": "6fd2b0c3",
   "metadata": {},
   "outputs": [
    {
     "name": "stdout",
     "output_type": "stream",
     "text": [
      "The movie with the third highest budget in the dataset is :- \n",
      "7387    Pirates of the Caribbean: At World's End\n",
      "Name: original_title, dtype: object\n",
      "\n",
      "The movie with third lowest budget in dataset is :- \n",
      "8944    Death Wish 2\n",
      "Name: original_title, dtype: object\n",
      "\n",
      "#####################\n",
      "\n"
     ]
    }
   ],
   "source": [
    "def sort(column, n_num, keep_type_max, keep_type_min, keep_all):\n",
    "    '''\n",
    "        column = dataset['column']\n",
    "        n_num, keep_type_max, keep_type_min,\n",
    "        keep_all = nLargest or nSmallest parameters\n",
    "    '''\n",
    "    df_sort = df.copy()\n",
    "    if(keep_all == \"no\"): \n",
    "        df_sort = df_sort.drop_duplicates(subset = column, keep=\"first\")\n",
    "    maximum = df_sort.loc[df_sort[column].nlargest(n_num, keep = keep_type_max).idxmin()]\n",
    "    id_max = df_sort.loc[lambda df_sort: df_sort[column] == maximum[column]]\n",
    "    \n",
    "    minimum = df_sort.loc[df_sort[column].nsmallest(n_num, keep = keep_type_min).idxmax()]\n",
    "    id_min = df_sort.loc[lambda df_sort: df_sort[column] == minimum[column]]\n",
    "    return id_max['original_title'], id_min['original_title']\n",
    "\n",
    "maximum, minimum = sort('budget', 3, \"all\", \"all\", \"no\")\n",
    "print(str(\"The movie with the third highest budget in the dataset is :- \\n\" + str(maximum) + \"\\n\\nThe movie with third lowest budget in dataset is :- \\n\" + str(minimum) + \"\\n\\n#####################\\n\"))"
   ]
  },
  {
   "cell_type": "markdown",
   "id": "ecb19ae0",
   "metadata": {},
   "source": [
    "## 2). What is the average number of words in movie titles between the year 2010-2015?\n",
    "\n",
    "> Aim is to know the average of the length of movie titles between 2010 and 2015."
   ]
  },
  {
   "cell_type": "code",
   "execution_count": 116,
   "id": "2b6bc38a",
   "metadata": {},
   "outputs": [
    {
     "name": "stdout",
     "output_type": "stream",
     "text": [
      "Average Word length in movie titles in 2010 - 2015 is approx :- \n",
      "2.8 Words\n",
      "\n",
      "###############################\n",
      "\n"
     ]
    }
   ],
   "source": [
    "def average(start, end, column_use, column_want, text): \n",
    "    ''' steat, end = limits for average, column_use, column_want = dataset['column']\n",
    "        text = the working variable for average is text or number\n",
    "    '''    \n",
    "    identity_for_year = df.loc[lambda df: ((df[column_use] > start) & (df[column_use] < end))]\n",
    "    sum = 0\n",
    "    for temp in identity_for_year[column_want]:\n",
    "        if (text == \"text\"):\n",
    "            pieces = len(temp.split())\n",
    "            sum = sum + pieces\n",
    "        if (text == \"number\"):\n",
    "            sum = sum + temp\n",
    "    average_count = sum/len(identity_for_year)\n",
    "    return average_count\n",
    "\n",
    "count = average(pd.datetime(2009,12,31), pd.datetime(2016,1,1), 'release_date', 'original_title', \"text\")         \n",
    "print(str(\"Average Word length in movie titles in 2010 - 2015 is approx :- \\n\" + str(round(count, 1)) + \" Words\\n\\n###############################\\n\"))"
   ]
  },
  {
   "cell_type": "markdown",
   "id": "6824a1cf",
   "metadata": {},
   "source": [
    "## 3). What is the most common Genre for Dwayne Johnson & Chris Hemsworth movies?"
   ]
  },
  {
   "cell_type": "code",
   "execution_count": 117,
   "id": "b28a2ea7",
   "metadata": {},
   "outputs": [
    {
     "name": "stdout",
     "output_type": "stream",
     "text": [
      "The most common genre of movies performed by Dwayne Johnson is :- \n",
      "[['Documentary', 42]]\n",
      "\n",
      "\n",
      "The most common genre of movies performed by Chris Hemsworth is :- \n",
      "[['Documentary', 43]]\n",
      "\n",
      "###############################\n",
      "\n"
     ]
    }
   ],
   "source": [
    "def tit_for_tat(data1, column2, data1_column):\n",
    "    df_temp = df.copy()\n",
    "    df_temp[data1_column] = df_temp[data1_column].str.contains(data1)\n",
    "    df_temp.drop(df_temp[df_temp[data1_column] == False].index, inplace = True)\n",
    "    df_temp.drop([\"New_ID\", \"budget\", \"revenue\", \"original_title\", \"runtime\", \"release_date\"], axis = 1, inplace = True)\n",
    "    df_temp.insert(0, 'New_ID', range(0, len(df_temp)))\n",
    "    \n",
    "    set_genre = set()\n",
    "    for temp_genre in df_temp[column2].str.split('|').values:\n",
    "        if isinstance(temp_genre, float): continue\n",
    "        set_genre = set_genre.union(temp_genre)\n",
    "    \n",
    "    #counting the number of genres\n",
    "    genre_count = dict()\n",
    "    for s in set_genre: genre_count[s] = 0\n",
    "    for temp_genre in df_temp[column2].str.split('|'):        \n",
    "        if type(temp_genre) == float and pd.isnull(temp_genre): continue        \n",
    "        for s in [s for s in temp_genre if s in set_genre]: \n",
    "            if pd.notnull(s): genre_count[s] += 1\n",
    "    genre_occurences = []\n",
    "    for k,v in genre_count.items():\n",
    "        genre_occurences.append([k,v])\n",
    "    genre_occurences.sort(key = lambda x:x[1], reverse = True)\n",
    "    return genre_occurences, genre_count\n",
    "\n",
    "count, count1 = tit_for_tat(\"Dwayne Johnson\", 'genres', 'cast')\n",
    "print(str(\"The most common genre of movies performed by Dwayne Johnson is :- \\n\" + str(count[:1]) + \"\\n\\n\"))\n",
    "count, count1 = tit_for_tat(\"Chris Hemsworth\", 'genres', 'cast')\n",
    "print(str(\"The most common genre of movies performed by Chris Hemsworth is :- \\n\" + str(count[:1]) + \"\\n\\n###############################\\n\"))\n"
   ]
  },
  {
   "cell_type": "markdown",
   "id": "43c8d7d6",
   "metadata": {},
   "source": [
    "## 4). Which are the movies with most and least earned revenue?\n",
    "\n",
    "> Aim is to know which movies generated the most and least revenue between 1960 and 2015."
   ]
  },
  {
   "cell_type": "code",
   "execution_count": 118,
   "id": "e673a90f",
   "metadata": {},
   "outputs": [
    {
     "name": "stdout",
     "output_type": "stream",
     "text": [
      "The movie with the most revenue in the dataset is/are :- \n",
      "1386    Avatar\n",
      "Name: original_title, dtype: object\n",
      "\n",
      "The movie with the least revenue in dataset is/are :- \n",
      "48                            Wild Card\n",
      "67                             Survivor\n",
      "74               Mythica: The Darkspore\n",
      "75       Me and Earl and the Dying Girl\n",
      "92             Mythica: The Necromancer\n",
      "                      ...              \n",
      "10861                The Endless Summer\n",
      "10862                        Grand Prix\n",
      "10863               Beregis Avtomobilya\n",
      "10864            What's Up, Tiger Lily?\n",
      "10865          Manos: The Hands of Fate\n",
      "Name: original_title, Length: 6016, dtype: object\n",
      "\n",
      "###########\n",
      "\n"
     ]
    }
   ],
   "source": [
    "### Using the fumction \"sort\" from question 1\n",
    "maximum, minimum = sort('revenue', 1, \"all\", \"all\", \"yes\")\n",
    "print(str(\"The movie with the most revenue in the dataset is/are :- \\n\" + str(maximum) + \"\\n\\nThe movie with the least revenue in dataset is/are :- \\n\" + str(minimum) + \"\\n\\n###########\\n\"))\n"
   ]
  },
  {
   "cell_type": "markdown",
   "id": "e6fa95a8",
   "metadata": {},
   "source": [
    "## 5). What is the average runtime of movies in the year 2006"
   ]
  },
  {
   "cell_type": "code",
   "execution_count": 119,
   "id": "08a175cf",
   "metadata": {},
   "outputs": [
    {
     "name": "stdout",
     "output_type": "stream",
     "text": [
      "Average runtime of movies in 2006 is approx :- \n",
      "101.68 Minutes\n",
      "\n"
     ]
    }
   ],
   "source": [
    "### Using the fumction \"average\" from question 2\n",
    "count = average(pd.datetime(2005, 12, 31), pd.datetime(2007, 1, 1), 'release_date', 'runtime', \"number\")\n",
    "print(str(\"Average runtime of movies in 2006 is approx :- \\n\" + str(round(count, 2)) + \" Minutes\\n\"))"
   ]
  },
  {
   "cell_type": "code",
   "execution_count": 120,
   "id": "59293893",
   "metadata": {},
   "outputs": [],
   "source": [
    "#Defining the parameters of any dependent variable. e.g assuming any column to be a dependent variable.\n",
    "def dependent_variable(x):\n",
    "    df1 = df[df[x].notna()]\n",
    "    df_v1 = df1[x].str.split(\"|\",expand = True)\n",
    "    df_v1.columns = ['split1','split2','split3','split4','split5']\n",
    "    for c in df_v1.columns:\n",
    "        df1[c] = df_v1[c]\n",
    "    \n",
    "    name = \"corrected_\" + x\n",
    "    v1 = df1.drop(['split2', 'split3','split4','split5'],1)\n",
    "    v1[name] = v1['split1']\n",
    "\n",
    "    v2 = df1[df1['split2'].notna()]\n",
    "    v2 = v2.drop(['split1', 'split3','split4','split5'],1)\n",
    "    v2[name] = v2['split2']\n",
    "\n",
    "    v3 = df1[df1['split3'].notna()]\n",
    "    v3 = v3.drop(['split1', 'split2','split4','split5'],1)\n",
    "    v3[name] = v3['split3']\n",
    "\n",
    "    v4 = df1[df1['split4'].notna()]\n",
    "    v4 = v4.drop(['split1', 'split2','split3','split5'],1)\n",
    "    v4[name] = v4['split4']\n",
    "\n",
    "    v5 = df1[df1['split5'].notna()]\n",
    "    v5 = v5.drop(['split1', 'split2','split3','split4'],1)\n",
    "    v5[name] = v5['split5'] \n",
    "    \n",
    "    first_merge_cast = v1.merge(v2,how=\"outer\")\n",
    "    second_merge_cast = first_merge_cast.merge(v3, how=\"outer\")\n",
    "    third_merge_cast = second_merge_cast.merge(v4, how=\"outer\")\n",
    "    df1 = third_merge_cast.merge(v5,how=\"outer\")\n",
    "\n",
    "    df1 = df1.drop(['split1', 'split2','split3','split4','split5','cast'],1)\n",
    "    return df1"
   ]
  },
  {
   "cell_type": "code",
   "execution_count": 48,
   "id": "78e76e63",
   "metadata": {},
   "outputs": [],
   "source": [
    "#Considering the cast and genres to be a proffe\n",
    "cast_df = dependent_variable('cast')\n",
    "genres_df = dependent_variable(\"genres\")"
   ]
  },
  {
   "cell_type": "markdown",
   "id": "3fddd118",
   "metadata": {},
   "source": [
    "<a id='eda'></a>\n",
    "## Exploratory Data Analysis\n",
    "\n",
    "> This part shows the graphical representation of some and all the data neccessary for my analysis.\n",
    "\n"
   ]
  },
  {
   "cell_type": "code",
   "execution_count": 122,
   "id": "9c841323",
   "metadata": {},
   "outputs": [
    {
     "data": {
      "text/plain": [
       "array(['Avatar', 'Star Wars: The Force Awakens', 'Titanic',\n",
       "       'The Avengers', 'Jurassic World'], dtype=object)"
      ]
     },
     "execution_count": 122,
     "metadata": {},
     "output_type": "execute_result"
    }
   ],
   "source": [
    "#Getting the top 5 movies by revenue.\n",
    "\n",
    "top_5 = df[df['revenue'] >= 1513528810].sort_values(by=\"revenue\",ascending=False)['original_title']\n",
    "top_5.values"
   ]
  },
  {
   "cell_type": "markdown",
   "id": "23f2302c",
   "metadata": {},
   "source": [
    "### Research Question 1 (Who are the popular casts to have appeared the most, and what are the characteristics attributed to them?)\n",
    "\n",
    "> The main logic behind this code is to visualize the casts that appeared the most in the dataset"
   ]
  },
  {
   "cell_type": "code",
   "execution_count": 124,
   "id": "b1fb5991",
   "metadata": {
    "scrolled": true
   },
   "outputs": [
    {
     "data": {
      "image/png": "[encoded data removed]",
      "text/plain": [
       "<Figure size 360x324 with 1 Axes>"
      ]
     },
     "metadata": {
      "needs_background": "light"
     },
     "output_type": "display_data"
    }
   ],
   "source": [
    "# from the dataset, count the casts(corrected_cast) column to know which name appears the most five times.\n",
    "five_most_popular = cast_df['corrected_cast'].value_counts()[0:5]\n",
    "fig = plt.figure(figsize =(5, 4.5))\n",
    "five_most_popular.plot.barh(color='purple')\n",
    "plt.title(\"Figure 3: Top 5 most featured casts\")\n",
    "plt.xlabel(\"Casts\")\n",
    "plt.ylabel(\"Number of movies featured\")\n",
    "plt.show()"
   ]
  },
  {
   "cell_type": "markdown",
   "id": "a95d3556",
   "metadata": {},
   "source": [
    "#### From the trend above, we know the casts that has featured the most in movies, with the number of times that they appeared respectively. Between 1960 and 2015.\\"
   ]
  },
  {
   "cell_type": "code",
   "execution_count": 63,
   "id": "a182eb49",
   "metadata": {
    "scrolled": true
   },
   "outputs": [
    {
     "name": "stdout",
     "output_type": "stream",
     "text": [
      "Robert De Niro 71200080\n",
      "Samuel L. Jackson 99406032\n",
      "Bruce Willis 105905564\n",
      "Nicolas Cage 79776868\n",
      "Michael Caine 101075212\n"
     ]
    }
   ],
   "source": [
    "#know the total revenue generated by each cast that featured the most in movies between 1960 and 2015\n",
    "for i in five_most_popular.index:\n",
    "    avg = cast_df[cast_df[\"corrected_cast\"] == i][\"revenue\"].mean()\n",
    "    print (i,round(avg))"
   ]
  },
  {
   "cell_type": "markdown",
   "id": "4340ce89",
   "metadata": {},
   "source": [
    "### Research Question 2: How does genre popularity affect the movie rating?"
   ]
  },
  {
   "cell_type": "code",
   "execution_count": 65,
   "id": "af553d66",
   "metadata": {},
   "outputs": [],
   "source": [
    "#A movie can have more than one genre\n",
    "genres_list = genres_df['corrected_genres'].value_counts() \n"
   ]
  },
  {
   "cell_type": "markdown",
   "id": "75f89bb8",
   "metadata": {},
   "source": [
    "### A visual representation of the most common genre in the dataset"
   ]
  },
  {
   "cell_type": "code",
   "execution_count": 72,
   "id": "c001a290",
   "metadata": {
    "scrolled": true
   },
   "outputs": [
    {
     "data": {
      "image/png": "[encoded data removed]",
      "text/plain": [
       "<Figure size 1224x864 with 1 Axes>"
      ]
     },
     "metadata": {
      "needs_background": "light"
     },
     "output_type": "display_data"
    }
   ],
   "source": [
    "#plot a bar chart to show the most genre\n",
    "fig = plt.figure(figsize =(17, 12))\n",
    "genres_list.plot.barh(color='r')\n",
    "plt.title(\"Figure 2: Distrbution of Genres in IMDB Movies\")\n",
    "plt.xlabel(\"Count\")\n",
    "plt.show()"
   ]
  },
  {
   "cell_type": "code",
   "execution_count": 74,
   "id": "a644d423",
   "metadata": {},
   "outputs": [
    {
     "data": {
      "text/plain": [
       "1"
      ]
     },
     "execution_count": 74,
     "metadata": {},
     "output_type": "execute_result"
    }
   ],
   "source": [
    "from subprocess import call\n",
    "call(['python', '-m', 'nbconvert', 'TMDB.ipynb'])"
   ]
  },
  {
   "cell_type": "markdown",
   "id": "c270de13",
   "metadata": {},
   "source": [
    "<a id='conclusions'></a>\n",
    "\n",
    "### Conclusions\n",
    "\n",
    ">In this project, I analyzed the International Movies dataset containing movies from 1960 to 2015.\n",
    ">In this analysis, I observed the movies with the third highest and third lowest budgets respectively.\n",
    ">We also looked at the average words used in a movie title in the year 2006.\n",
    ">We specifically analyzed the common genre of movies that Dwayne Johnson and Chris Hemsworth appeared in the most.\n",
    "\n",
    ">I calculated the movies with the most and least revenues generated respectively, with the movie \"Avatar\" being the highest grossing movie with a revenue of 2.7 billion dollars. It also had a movie rating of 7.1 which is above the average rating of movies(5).\n",
    "\n",
    ">On the contrary, \"Shattered glass\" and \"Mallrat\" were the movies with the lowesr revenues generated.\n",
    "\n",
    ">I also calculated the average runtime of movies in the year 2006.\n",
    "\n",
    ">Robert De Niro is the most featured cast featuring in 72 movies as early as 1973. second to him is Samuel L. Jackson who featured in 71 movies from 1992 to 2015. However, none of the top 5 most featured casts were casts in the highest grossing movies.\n",
    "\n",
    ">This report also established that certain genres were more favourable to users than the others. Although not the most featured genre in the movie industry, the Documentary, Music and History genres had a higher average rating than the other genres.\n",
    "\n",
    ">From this analysis, we can deduce that there's a strong relationship between genre popularity and the revenue generated.\n",
    "\n",
    "> The key performance index is also derived in this analysis to help in further machine learning.\n",
    "\n",
    ">We also notice that genre popularity influences the rating of a movie."
   ]
  },
  {
   "cell_type": "markdown",
   "id": "5be04254",
   "metadata": {},
   "source": [
    "<a id='limitations'></a>\n",
    "\n",
    "### Limitations\n",
    "> A major limitation of this report is that the movies in the database are not up to date. Therefore the analysis performed are limited to movies from 1960 to 2015. Also, the data had some mismatch which could affect the analysis reported. Some of which are:\n",
    "\n",
    "> The movie Tekken (2010) directed by Dwight Little was recorded twice\n",
    "\n",
    "> The casts of some movies were missing\n",
    "\n",
    "> The genres of some movies were missing"
   ]
  },
  {
   "cell_type": "markdown",
   "id": "4348fd88",
   "metadata": {},
   "source": [
    "<a id='ref'></a>\n",
    "\n",
    "### References\n",
    "<ul>\n",
    "<li><a href='https//:pandas.pydata.com.com'>Pandas(Pydata)</a></li>\n",
    "<li><a href='https//:stackoverflow.com'>Stackoverflow</a></li>\n",
    "<li><a href='https//:kaggle.com'>Kaggle</a></li>\n",
    "\n",
    "</ul>"
   ]
  }
 ],
 "metadata": {
  "kernelspec": {
   "display_name": "Python 3 (ipykernel)",
   "language": "python",
   "name": "python3"
  },
  "language_info": {
   "codemirror_mode": {
    "name": "ipython",
    "version": 3
   },
   "file_extension": ".py",
   "mimetype": "text/x-python",
   "name": "python",
   "nbconvert_exporter": "python",
   "pygments_lexer": "ipython3",
   "version": "3.9.12"
  }
 },
 "nbformat": 4,
 "nbformat_minor": 5
}
